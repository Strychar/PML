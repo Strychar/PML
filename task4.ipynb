{
  "nbformat": 4,
  "nbformat_minor": 0,
  "metadata": {
    "colab": {
      "provenance": [],
      "authorship_tag": "ABX9TyN0TVyOy/RQzzIBc/JhvKWu",
      "include_colab_link": true
    },
    "kernelspec": {
      "name": "python3",
      "display_name": "Python 3"
    },
    "language_info": {
      "name": "python"
    }
  },
  "cells": [
    {
      "cell_type": "markdown",
      "metadata": {
        "id": "view-in-github",
        "colab_type": "text"
      },
      "source": [
        "<a href=\"https://colab.research.google.com/github/Strychar/PML/blob/master/task4.ipynb\" target=\"_parent\"><img src=\"https://colab.research.google.com/assets/colab-badge.svg\" alt=\"Open In Colab\"/></a>"
      ]
    },
    {
      "cell_type": "code",
      "execution_count": 8,
      "metadata": {
        "id": "qIkivTuPSw8k"
      },
      "outputs": [],
      "source": [
        "def celebrate():\n",
        "  i=0\n",
        "  if i==0:\n",
        "    a = 'false'\n",
        "    print(a)"
      ]
    },
    {
      "cell_type": "code",
      "source": [
        "celebrate()"
      ],
      "metadata": {
        "id": "ZNmVZJKgTom7",
        "outputId": "128e8a2b-8751-4e2f-f3e5-814de67ba376",
        "colab": {
          "base_uri": "https://localhost:8080/"
        }
      },
      "execution_count": 9,
      "outputs": [
        {
          "output_type": "stream",
          "name": "stdout",
          "text": [
            "false\n"
          ]
        }
      ]
    }
  ]
}