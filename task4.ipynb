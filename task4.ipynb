{
  "nbformat": 4,
  "nbformat_minor": 0,
  "metadata": {
    "colab": {
      "provenance": [],
      "authorship_tag": "ABX9TyNFCG0oe6p7jx8Qsk8Lp2FO",
      "include_colab_link": true
    },
    "kernelspec": {
      "name": "python3",
      "display_name": "Python 3"
    },
    "language_info": {
      "name": "python"
    }
  },
  "cells": [
    {
      "cell_type": "markdown",
      "metadata": {
        "id": "view-in-github",
        "colab_type": "text"
      },
      "source": [
        "<a href=\"https://colab.research.google.com/github/Strychar/PML/blob/task4/task4.ipynb\" target=\"_parent\"><img src=\"https://colab.research.google.com/assets/colab-badge.svg\" alt=\"Open In Colab\"/></a>"
      ]
    },
    {
      "cell_type": "code",
      "execution_count": 10,
      "metadata": {
        "id": "qIkivTuPSw8k"
      },
      "outputs": [],
      "source": [
        "def celebrate():\n",
        "  if True:\n",
        "    a = \"it's working\"\n",
        "    print(a)"
      ]
    },
    {
      "cell_type": "code",
      "source": [
        "celebrate()"
      ],
      "metadata": {
        "id": "ZNmVZJKgTom7"
      },
      "execution_count": 11,
      "outputs": []
    }
  ]
}