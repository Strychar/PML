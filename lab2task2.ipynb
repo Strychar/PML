{
  "nbformat": 4,
  "nbformat_minor": 0,
  "metadata": {
    "colab": {
      "provenance": [],
      "authorship_tag": "ABX9TyOZfmppEmkg1Swk5IITWWdk",
      "include_colab_link": true
    },
    "kernelspec": {
      "name": "python3",
      "display_name": "Python 3"
    },
    "language_info": {
      "name": "python"
    }
  },
  "cells": [
    {
      "cell_type": "markdown",
      "metadata": {
        "id": "view-in-github",
        "colab_type": "text"
      },
      "source": [
        "<a href=\"https://colab.research.google.com/github/Strychar/PML/blob/while_variant/lab2task2.ipynb\" target=\"_parent\"><img src=\"https://colab.research.google.com/assets/colab-badge.svg\" alt=\"Open In Colab\"/></a>"
      ]
    },
    {
      "cell_type": "code",
      "execution_count": 5,
      "metadata": {
        "id": "RwjwCTQHFnIt"
      },
      "outputs": [],
      "source": [
        "import numpy as np\n",
        "\n",
        "value_count = 20\n",
        "# initializing vectors of 20 random values scaled from 0 to 1\n",
        "random_number = np.random.rand(value_count)\n"
      ]
    },
    {
      "cell_type": "code",
      "source": [
        "i=0\n",
        "while i < value_count:\n",
        "  print(random_number[i],'\\n')\n",
        "  i=i+1"
      ],
      "metadata": {
        "colab": {
          "base_uri": "https://localhost:8080/"
        },
        "id": "m-zEJ2vsHLU-",
        "outputId": "9f3b280b-c371-4855-b246-ffa9d6866142"
      },
      "execution_count": 6,
      "outputs": [
        {
          "output_type": "stream",
          "name": "stdout",
          "text": [
            "0.1947207226964509 \n",
            "\n",
            "0.4062340911062621 \n",
            "\n",
            "0.4872018148019984 \n",
            "\n",
            "0.46635069789026207 \n",
            "\n",
            "0.7144420176294471 \n",
            "\n",
            "0.24767389953982788 \n",
            "\n",
            "0.05102590455330169 \n",
            "\n",
            "0.639209187907009 \n",
            "\n",
            "0.21202552862360757 \n",
            "\n",
            "0.28057407092651165 \n",
            "\n",
            "0.9895923194833591 \n",
            "\n",
            "0.12594698007083538 \n",
            "\n",
            "0.7728455752963 \n",
            "\n",
            "0.44514512007629414 \n",
            "\n",
            "0.506229977595111 \n",
            "\n",
            "0.3340465043546471 \n",
            "\n",
            "0.08279357045490887 \n",
            "\n",
            "0.2739026190483763 \n",
            "\n",
            "0.5398599944579122 \n",
            "\n",
            "0.09291983056567477 \n",
            "\n"
          ]
        }
      ]
    }
  ]
}