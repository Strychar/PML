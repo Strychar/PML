{
  "nbformat": 4,
  "nbformat_minor": 0,
  "metadata": {
    "colab": {
      "provenance": [],
      "authorship_tag": "ABX9TyOuC4nPrMqHRffcTUytQBVv",
      "include_colab_link": true
    },
    "kernelspec": {
      "name": "python3",
      "display_name": "Python 3"
    },
    "language_info": {
      "name": "python"
    }
  },
  "cells": [
    {
      "cell_type": "markdown",
      "metadata": {
        "id": "view-in-github",
        "colab_type": "text"
      },
      "source": [
        "<a href=\"https://colab.research.google.com/github/Strychar/PML/blob/for_variant/lab2task2.ipynb\" target=\"_parent\"><img src=\"https://colab.research.google.com/assets/colab-badge.svg\" alt=\"Open In Colab\"/></a>"
      ]
    },
    {
      "cell_type": "code",
      "execution_count": 2,
      "metadata": {
        "id": "RwjwCTQHFnIt"
      },
      "outputs": [],
      "source": [
        "import numpy as np\n",
        "\n",
        "value_count = 20\n",
        "# initializing vectors of 20 random values scaled from 0 to 1\n",
        "random_number = np.random.rand(value_count)\n"
      ]
    },
    {
      "cell_type": "code",
      "source": [
        "for i in range(value_count):\n",
        "  print(random_number[i],'\\n')"
      ],
      "metadata": {
        "colab": {
          "base_uri": "https://localhost:8080/"
        },
        "id": "m-zEJ2vsHLU-",
        "outputId": "fd3eeed0-5bf1-43b3-b5cf-006da38c49d9"
      },
      "execution_count": 4,
      "outputs": [
        {
          "output_type": "stream",
          "name": "stdout",
          "text": [
            "0.547890573653698 \n",
            "\n",
            "0.11991733955114758 \n",
            "\n",
            "0.17150796813267422 \n",
            "\n",
            "0.03251076717326551 \n",
            "\n",
            "0.41737527314742773 \n",
            "\n",
            "0.9321286715778242 \n",
            "\n",
            "0.46550465051910916 \n",
            "\n",
            "0.18281429606926225 \n",
            "\n",
            "0.8851722723967966 \n",
            "\n",
            "0.18993359068379523 \n",
            "\n",
            "0.8819411233632206 \n",
            "\n",
            "0.18446935813967913 \n",
            "\n",
            "0.36435185759288935 \n",
            "\n",
            "0.7810005066933611 \n",
            "\n",
            "0.7283501108713082 \n",
            "\n",
            "0.5373978880113214 \n",
            "\n",
            "0.6580813790966905 \n",
            "\n",
            "0.039496871851922744 \n",
            "\n",
            "0.7760089821909992 \n",
            "\n",
            "0.51630721126119 \n",
            "\n"
          ]
        }
      ]
    }
  ]
}