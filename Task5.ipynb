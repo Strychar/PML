{
  "nbformat": 4,
  "nbformat_minor": 0,
  "metadata": {
    "colab": {
      "provenance": [],
      "authorship_tag": "ABX9TyOPVp9hsBm/Pi9ZnK5sJM9j",
      "include_colab_link": true
    },
    "kernelspec": {
      "name": "python3",
      "display_name": "Python 3"
    },
    "language_info": {
      "name": "python"
    }
  },
  "cells": [
    {
      "cell_type": "markdown",
      "metadata": {
        "id": "view-in-github",
        "colab_type": "text"
      },
      "source": [
        "<a href=\"https://colab.research.google.com/github/Strychar/PML/blob/master/Task5.ipynb\" target=\"_parent\"><img src=\"https://colab.research.google.com/assets/colab-badge.svg\" alt=\"Open In Colab\"/></a>"
      ]
    },
    {
      "cell_type": "code",
      "execution_count": 11,
      "metadata": {
        "colab": {
          "base_uri": "https://localhost:8080/"
        },
        "id": "Rwmc8Wa5dvQg",
        "outputId": "a9351ff0-999b-4727-f666-6846fdc0efcb"
      },
      "outputs": [
        {
          "output_type": "stream",
          "name": "stdout",
          "text": [
            "no\n",
            "no\n",
            "no\n",
            "no\n",
            "no\n",
            "no\n",
            "no\n",
            "no\n",
            "no\n",
            "no\n",
            "no\n",
            "no\n",
            "no\n",
            "no\n",
            "no\n",
            "no\n",
            "no\n",
            "no\n",
            "no\n",
            "no\n",
            "no\n",
            "no\n",
            "no\n",
            "no\n",
            "no\n",
            "no\n",
            "no\n",
            "no\n",
            "no\n",
            "no\n",
            "no\n",
            "no\n",
            "no\n",
            "no\n",
            "no\n",
            "no\n",
            "no\n",
            "no\n",
            "no\n",
            "no\n",
            "no\n",
            "no\n",
            "no\n",
            "no\n",
            "no\n",
            "no\n",
            "no\n",
            "no\n",
            "no\n",
            "no\n",
            "no\n",
            "no\n",
            "no\n",
            "no\n",
            "no\n",
            "no\n",
            "no\n",
            "no\n",
            "no\n",
            "no\n",
            "no\n",
            "no\n",
            "no\n",
            "no\n",
            "no\n",
            "no\n",
            "no\n",
            "no\n",
            "no\n",
            "no\n",
            "no\n",
            "no\n",
            "no\n",
            "no\n",
            "no\n",
            "no\n",
            "no\n",
            "no\n",
            "no\n",
            "no\n",
            "no\n",
            "no\n",
            "no\n",
            "no\n",
            "no\n",
            "no\n",
            "no\n",
            "no\n",
            "no\n",
            "no\n",
            "no\n",
            "no\n",
            "no\n",
            "no\n",
            "no\n",
            "no\n",
            "no\n",
            "no\n",
            "no\n",
            "no\n"
          ]
        }
      ],
      "source": [
        "from file1 import action\n",
        "\n",
        "\n",
        "import numpy\n",
        "number1=numpy.random.rand(100)\n",
        "number2=numpy.random.rand(100)\n",
        "number3=numpy.random.rand(100)\n",
        "\n",
        "for i in range(100):\n",
        " action(number1[i],number2[i],number3[i])"
      ]
    }
  ]
}